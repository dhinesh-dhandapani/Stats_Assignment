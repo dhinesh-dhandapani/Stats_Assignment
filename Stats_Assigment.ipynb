{
 "cells": [
  {
   "cell_type": "markdown",
   "metadata": {},
   "source": [
    "#STATISTICS 1, 2, 3 & 4:"
   ]
  },
  {
   "cell_type": "markdown",
   "metadata": {},
   "source": [
    "# 2.1. Problem Statement: STATISTICS 1"
   ]
  },
  {
   "cell_type": "code",
   "execution_count": null,
   "metadata": {},
   "outputs": [],
   "source": [
    "import statistics"
   ]
  },
  {
   "cell_type": "markdown",
   "metadata": {},
   "source": [
    "1) You survey households in your area to find the average rent they are paying. Find the standard deviation from the following data:\n",
    "$1550, $1700, $900, $850, $1000, $950."
   ]
  },
  {
   "cell_type": "markdown",
   "metadata": {},
   "source": [
    "#Step 1 – Calculation of Mean – (x1+x2+x3+x4+x5+x6)/(n-1)\n",
    "\n",
    "(1550+1700+900+850+1000+950) / 6 = 1158.33\n",
    "\n",
    "#Step 2 – Calculation of Variance\n",
    "\n",
    "(1550-1158.33)^2 + (1700-1158.33)^2 + (900-1158.33)^2 + (850-1158.33)^2 + (1000-1158.33)^2 + (950-1158.33)^2\n",
    "\n",
    "= 677083.3333\n",
    "\n",
    "Variance = 677083.3333/(6-1) = 135416.7\n",
    "\n",
    "Standard Devaition = sqrt(135416.7) = 367.99\n"
   ]
  },
  {
   "cell_type": "code",
   "execution_count": 34,
   "metadata": {},
   "outputs": [
    {
     "data": {
      "text/plain": [
       "367.9900360969936"
      ]
     },
     "execution_count": 34,
     "metadata": {},
     "output_type": "execute_result"
    }
   ],
   "source": [
    "statistics.stdev([1550,1700,900,850,1000,950])"
   ]
  },
  {
   "cell_type": "markdown",
   "metadata": {},
   "source": [
    "2) Find the variance for the following set of data representing trees in California\n",
    "(heights in feet): 3, 21, 98, 203, 17, 9"
   ]
  },
  {
   "cell_type": "markdown",
   "metadata": {},
   "source": [
    "Step 1 – Calculation of Mean – (x1+x2+x3+x4+x5+x6)/n\n",
    "(3+21+98+203+17+9) / 6 = 58.5\n",
    "\n",
    "\n",
    "Step 2 – Calculation of Variance \n",
    "\n",
    "(3-58.5)^2 + (21-58.5)^2 + (98-58.5)^2 + (203-58.3)^2 + (17-58.3)^2 + (9-58.3)^2\n",
    "\n",
    "= 31099.5\n",
    "\n",
    "Variance = 31099.5/(6-1)\n",
    "\n",
    "Variance = 6219.9"
   ]
  },
  {
   "cell_type": "code",
   "execution_count": 36,
   "metadata": {},
   "outputs": [
    {
     "data": {
      "text/plain": [
       "6219.9"
      ]
     },
     "execution_count": 36,
     "metadata": {},
     "output_type": "execute_result"
    }
   ],
   "source": [
    "statistics.variance([3,21,98,203,17,9])"
   ]
  },
  {
   "cell_type": "markdown",
   "metadata": {},
   "source": [
    "3) In a class on 100 students, 80 students passed in all subjects, 10 failed in one\n",
    "subject, 7 failed in two subjects and 3 failed in three subjects. Find the\n",
    "probability distribution of the variable for number of subjects a student from\n",
    "the given class has failed in."
   ]
  },
  {
   "cell_type": "code",
   "execution_count": null,
   "metadata": {},
   "outputs": [],
   "source": [
    "Solution :\n",
    "\n",
    "The probability of failing in 0 subjects, P(X=0) =80/100 =0.8\n",
    "The probability of failing in 1 subjects, P(X=1) =10/100 = 0.1 \n",
    "The probability of failing in 2 subjects, P(X=2) =7/100 = 0.07 \n",
    "The probability of failing in 3 subjects, P(X=3) = 3/100 = 0.03\n",
    "\n",
    "The probability distribution can be shown as:\n",
    "    \n",
    "X = 0 1 2 3\n",
    "\n",
    "P(X) = 0.8 0.1 0.07 0.03\n"
   ]
  },
  {
   "cell_type": "markdown",
   "metadata": {},
   "source": [
    "# 2.2. Problem Statement: STATISTICS 2"
   ]
  },
  {
   "cell_type": "markdown",
   "metadata": {},
   "source": [
    "1) A test is conducted which is consisting of 20 MCQs (multiple choices questions)\n",
    "with every MCQ having its four options out of which only one is correct.\n",
    "Determine the probability that a person undertaking that test has answered\n",
    "exactly 5 questions wrong."
   ]
  },
  {
   "cell_type": "markdown",
   "metadata": {},
   "source": [
    "Solution – Here, n = 20, n - k = 5, k = 20 - 5 = 15\n",
    "\n",
    "Here the probability of success = probability of giving a right answer = s = 1/4\n",
    "Hence, the probability of failure = probability of giving a wrong answer = 1 - s = 1 – 1/4 = 3/4\n",
    "When we substitute these values in the formula for Binomial distribution we get, \n",
    "\n",
    "So, P (exactly 5 out of 20 answers incorrect) = C (20, 5) * (1/4) ^ 15 * (3/4) ^ 5\n",
    "\n",
    "→ P (5 out of 20) = (20∗19∗18∗17∗16) / (5∗4∗3∗2∗1) * (1/4) ^ 15 * (3/4) ^ 5\n",
    "\n",
    "= 0.0000034 (approx) \n",
    "\n",
    "Thus the required probability is 0.0000034 approximately."
   ]
  },
  {
   "cell_type": "markdown",
   "metadata": {},
   "source": [
    "2) A die marked A to E is rolled 50 times. Find the probability of getting a\n",
    "“D” exactly 5 times."
   ]
  },
  {
   "cell_type": "code",
   "execution_count": null,
   "metadata": {},
   "outputs": [],
   "source": [
    "Solution :\n",
    "\n",
    "Here, n = 50, k = 5, n - k = 45. \n",
    "\n",
    "The probability of success = probability of getting a “D”= s = 1/5\n",
    "\n",
    "Hence, the probability of failure = probability of not getting a “D” = 1 - s = 4/5."
   ]
  },
  {
   "cell_type": "markdown",
   "metadata": {},
   "source": [
    "3) Two balls are drawn at random in succession without replacement from an urn\n",
    "containing 4 red balls and 6 black balls.\n",
    "Find the probabilities of all the possible outcomes."
   ]
  },
  {
   "cell_type": "code",
   "execution_count": null,
   "metadata": {},
   "outputs": [],
   "source": [
    "Solution –\n",
    "\n",
    "First determine the probabilities of the events.\n",
    "\n",
    "Events Probability\n",
    "\n",
    "RR = (4/10)(3/9) = 2/15\n",
    "RB = (4/10)(6/9) = 4/15\n",
    "BR = (6/10)(4/9) = 4/15\n",
    "BB = (6/10)(5/9) = 1/3\n",
    "\n",
    "The probability of 0 blue balls (RR) is 2/15\n",
    "The probability of 1 blue ball is (RB or BR) is 4/15+4/15 = 8/15\n",
    "The probability of 2 blue balls (BB) is 1/3\n",
    "\n",
    "So the probability distribution is: Z p(Z)\n",
    "--------\n",
    "0 = 2/15\n",
    "1 = 8/15\n",
    "2 = 1/3"
   ]
  },
  {
   "cell_type": "markdown",
   "metadata": {},
   "source": [
    "# 2.3. Problem Statement: STATISTICS 3"
   ]
  },
  {
   "cell_type": "markdown",
   "metadata": {},
   "source": [
    "1) Blood glucose levels for obese patients have a mean of 100 with a standard deviation\n",
    "of 15. A researcher thinks that a diet high in raw cornstarch will have a positive\n",
    "effect on blood glucose levels. A sample of 36 patients who have tried the raw\n",
    "cornstarch diet have a mean glucose level of 108. Test the hypothesis that the raw\n",
    "cornstarch had an effect or not."
   ]
  },
  {
   "cell_type": "code",
   "execution_count": null,
   "metadata": {},
   "outputs": [],
   "source": [
    "Solution :\n",
    "\n",
    "Mean =100\n",
    "STD= 15\n",
    "\n",
    "Sample Survey, on patient\n",
    "\n",
    "Sample =36\n",
    "Level = 108\n",
    "\n",
    "Z calculation for 8,  2.5\n",
    "\n",
    "Z_ value  = 3.2,  \n",
    "Z_value is greater than 1.64 , \n",
    "\n",
    "So it Rejects the null hypothesis\n"
   ]
  },
  {
   "cell_type": "markdown",
   "metadata": {},
   "source": [
    "2) 1. In one state, 52% of the voters are Republicans, and 48% are Democrats. In a\n",
    "second state, 47% of the voters are Republicans, and 53% are Democrats.\n",
    "Suppose a simple random sample of 100 voters are surveyed from each state.\n",
    "\n",
    "What is the probability that the survey will show a greater percentage of\n",
    "Republican voters in the second state than in the first state?"
   ]
  },
  {
   "cell_type": "code",
   "execution_count": null,
   "metadata": {},
   "outputs": [],
   "source": [
    "Solution :\n",
    "\n",
    "1. State_1_ Republicans  52\n",
    "2. State_1_Democrats 48\n",
    "3. State_2_Republicans 47\n",
    "4. State_3_Democrats 43\n",
    "\n",
    "The mean of difference in sample proportions  0.05\n",
    "\n",
    "Standard deviation of the differences\n",
    "\n",
    "1_Value 0.00249600\n",
    "2_Value 0.00249100\n",
    "\n",
    "Standard Deviation both = 0.07061869\n",
    "\n",
    "Probability of P1 is less than P2 by -0.708\n",
    "\n",
    "Using Normal Distribution calculator \n",
    "P(z < = 0.7082) = 0.24\n",
    "\n",
    "The probability of a z-score being -0.7082 or less is 0.24\n"
   ]
  },
  {
   "cell_type": "markdown",
   "metadata": {},
   "source": [
    "3) You take the SAT and score 1100. The mean score for the SAT is 1026 and the\n",
    "standard deviation is 209. How well did you score on the test compared to the\n",
    "average test taker?"
   ]
  },
  {
   "cell_type": "code",
   "execution_count": null,
   "metadata": {},
   "outputs": [],
   "source": [
    "Solution :\n",
    "\n",
    "SCORE 1100.00\n",
    "SAT 1026.00\n",
    "STD 209.00\n",
    "Z-Score 0.35\n",
    "\n",
    "Now, \n",
    "check the z-value from z table for the percentage of test – seeker scored.\n",
    "\n",
    "A z-score of .354 is .1368 + .5000* = .6368 or 63.68%.\n",
    "\n"
   ]
  },
  {
   "cell_type": "markdown",
   "metadata": {},
   "source": [
    "# 2.4. Problem Statement: STATISTICS 4"
   ]
  },
  {
   "cell_type": "markdown",
   "metadata": {},
   "source": [
    "1) Is gender independent of education level? A random sample of 395 people were\n",
    "surveyed and each person was asked to report the highest education level they\n",
    "obtained. The data that resulted from the survey is summarized in the\n",
    "following table:\n",
    "\n",
    "High-School Bachelor Masters Ph.D. Total\n",
    "Female 60 54 46 41 201\n",
    "Male 40 44 53 57 194\n",
    "Total 100 98 99 98 395\n",
    "\n",
    "Question: Are gender and education level dependent at 5% level of\n",
    "significance? In other words, given the data collected above, is there a\n",
    "relationship between the gender of an individual and the level of education\n",
    "that they have obtained?\n"
   ]
  },
  {
   "cell_type": "code",
   "execution_count": null,
   "metadata": {},
   "outputs": [],
   "source": [
    "Solution :\n",
    "    \n",
    "H0: Gender and education independent\n",
    "H1: Gender and education dependent\n",
    "    \n",
    "The Expected frequency under the null hypothesis is given\n",
    "E = row total * column total / sample size\n",
    "Row totals and column totals are given above sample size = 395\n",
    "\n",
    "Therefore, we have expected frequencies as follows: \n",
    "\n",
    "         High School    Bachelors  Masters  Ph.d.\n",
    "Female   50.886         49.868     50.377   49.868 \n",
    "Male     49.114         48.132     48.623   48.132\n",
    "\n",
    "Therefore, Χ2 = 1.632 + 0.342 + 0.38 + 1.577 + 1.691 + 0.355 + 0.394 + 1.634 = 8.006\n",
    "\n",
    "Χ20.95  for degrees of freedom 3 = 7.815.\n",
    "\n",
    "Since 8.006 > 7.815, we reject the null hypothesis. Therefore, gender and education are dependent\n"
   ]
  },
  {
   "cell_type": "markdown",
   "metadata": {},
   "source": [
    "2) Using the following data, perform a one-way analysis of variance using α=.05.\n",
    "Write up the results in APA format.\n",
    "[Group1: 51, 45, 33, 45, 67]\n",
    "[Group2: 23, 43, 23, 43, 45]\n",
    "[Group3: 56, 76, 74, 87, 56]\n"
   ]
  },
  {
   "cell_type": "code",
   "execution_count": null,
   "metadata": {},
   "outputs": [],
   "source": [
    "Solution :\n",
    "\n",
    "H0:μ1 =μ2 =μ3 \n",
    "H1: Population means are not equal\n",
    "\n",
    "Sum of squares between Treatments = Σ nj(X̄j - X̄)2 \n",
    "\n",
    "Sum of squares (Error) = ΣΣ (X - X̄j)2 \n",
    "\n",
    "Test-statistic = Σ nj(X̄j - X̄)2 / (k - 1) / ΣΣ (X - X̄j)2 / (N-k) where k = 3, N = 15\n",
    "\n",
    "Source of Variation Sums of Squares Degrees of Freedom Mean Squares F between\n",
    "\n",
    "Treatments: 022.93 21511.47 9.75 \n",
    "Error or Residual 1860.8 12 155.07\n",
    "\n",
    "F0.5(2,12)=3.885\n",
    "\n",
    "Since, 9.75>3.885, We Reject the null hypothesis.\n",
    "\n",
    "Therefore, the population means are not equal.\n",
    "\n",
    "In APA format, A one-way between subjects ANOVA was conducted to compare the effect of the\n",
    "group on values in group 1, group 2 and group 3.\n",
    "\n",
    "There was a signficant effect of group on values at α = 0.05 level for group 1,group 2, group 3.\n"
   ]
  },
  {
   "cell_type": "markdown",
   "metadata": {},
   "source": [
    "3) Calculate F Test for given 10, 20, 30, 40, 50 and 5,10,15, 20, 25.\n",
    "For 10, 20, 30, 40, 50:"
   ]
  },
  {
   "cell_type": "code",
   "execution_count": null,
   "metadata": {},
   "outputs": [],
   "source": [
    "Solution :\n",
    "    \n",
    "Sample variance s2 = Σ(X - X̄)2/ N-1\n",
    "\n",
    "s12 = (400.0 + 100.0 + 0.0 + 100.0 + 400.0)/4 = 250.0\n",
    "s22 = (100.0 + 25.0 + 0.0 + 25.0 + 100.0)/4 = 62.5\n",
    "\n",
    "F-statistic = s12/s22 = 250/62.5 = 4\n"
   ]
  }
 ],
 "metadata": {
  "kernelspec": {
   "display_name": "Python 3",
   "language": "python",
   "name": "python3"
  },
  "language_info": {
   "codemirror_mode": {
    "name": "ipython",
    "version": 3
   },
   "file_extension": ".py",
   "mimetype": "text/x-python",
   "name": "python",
   "nbconvert_exporter": "python",
   "pygments_lexer": "ipython3",
   "version": "3.7.0"
  }
 },
 "nbformat": 4,
 "nbformat_minor": 2
}
